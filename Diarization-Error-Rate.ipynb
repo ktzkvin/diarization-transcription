{
 "cells": [
  {
   "cell_type": "code",
   "execution_count": null,
   "metadata": {},
   "outputs": [],
   "source": [
    "# audio sample to be used for the test\n",
    "sample = \"audio_2\"\n"
   ]
  },
  {
   "cell_type": "code",
   "execution_count": 32,
   "metadata": {},
   "outputs": [
    {
     "name": "stderr",
     "output_type": "stream",
     "text": [
      "Lightning automatically upgraded your loaded checkpoint from v1.5.4 to v2.4.0. To apply the upgrade to your files permanently, run `python -m pytorch_lightning.utilities.upgrade_checkpoint C:\\Users\\ktzke\\.cache\\torch\\pyannote\\models--pyannote--segmentation\\snapshots\\c4c8ceafcbb3a7a280c2d357aee9fbc9b0be7f9b\\pytorch_model.bin`\n",
      "INFO:speechbrain.utils.fetching:Fetch hyperparams.yaml: Fetching from HuggingFace Hub 'speechbrain/spkrec-ecapa-voxceleb' if not cached\n",
      "INFO:speechbrain.utils.fetching:Fetch custom.py: Fetching from HuggingFace Hub 'speechbrain/spkrec-ecapa-voxceleb' if not cached\n"
     ]
    },
    {
     "name": "stdout",
     "output_type": "stream",
     "text": [
      "Model was trained with pyannote.audio 0.0.1, yours is 3.3.2. Bad things might happen unless you revert pyannote.audio to 0.x.\n",
      "Model was trained with torch 1.10.0+cu102, yours is 2.5.1+cpu. Bad things might happen unless you revert torch to 1.x.\n"
     ]
    },
    {
     "name": "stderr",
     "output_type": "stream",
     "text": [
      "INFO:speechbrain.utils.fetching:Fetch embedding_model.ckpt: Fetching from HuggingFace Hub 'speechbrain/spkrec-ecapa-voxceleb' if not cached\n",
      "INFO:speechbrain.utils.fetching:Fetch mean_var_norm_emb.ckpt: Fetching from HuggingFace Hub 'speechbrain/spkrec-ecapa-voxceleb' if not cached\n",
      "INFO:speechbrain.utils.fetching:Fetch classifier.ckpt: Fetching from HuggingFace Hub 'speechbrain/spkrec-ecapa-voxceleb' if not cached\n",
      "INFO:speechbrain.utils.fetching:Fetch label_encoder.txt: Fetching from HuggingFace Hub 'speechbrain/spkrec-ecapa-voxceleb' if not cached\n",
      "INFO:speechbrain.utils.parameter_transfer:Loading pretrained files for: embedding_model, mean_var_norm_emb, classifier, label_encoder\n",
      "Lightning automatically upgraded your loaded checkpoint from v1.5.4 to v2.4.0. To apply the upgrade to your files permanently, run `python -m pytorch_lightning.utilities.upgrade_checkpoint C:\\Users\\ktzke\\.cache\\torch\\pyannote\\models--pyannote--segmentation\\snapshots\\660b9e20307a2b0cdb400d0f80aadc04a701fc54\\pytorch_model.bin`\n"
     ]
    },
    {
     "name": "stdout",
     "output_type": "stream",
     "text": [
      "Model was trained with pyannote.audio 0.0.1, yours is 3.3.2. Bad things might happen unless you revert pyannote.audio to 0.x.\n",
      "Model was trained with torch 1.10.0+cu102, yours is 2.5.1+cpu. Bad things might happen unless you revert torch to 1.x.\n"
     ]
    }
   ],
   "source": [
    "from pyannote.audio import Pipeline, Model\n",
    "\n",
    "# Ask for the Hugging Face token\n",
    "hf_token = input(\"Please enter your Hugging Face token: \")\n",
    "\n",
    "diarization_pipeline = Pipeline.from_pretrained(\"pyannote/speaker-diarization@2.1\", use_auth_token=hf_token)\n",
    "model = Model.from_pretrained(\"pyannote/segmentation\", use_auth_token=hf_token)\n"
   ]
  },
  {
   "cell_type": "code",
   "execution_count": null,
   "metadata": {},
   "outputs": [],
   "source": [
    "# Appliquer le pipeline de la diarization\n",
    "diarization = diarization_pipeline(f\"audios/{sample}.wav\", num_speakers=2)\n"
   ]
  },
  {
   "cell_type": "code",
   "execution_count": 29,
   "metadata": {},
   "outputs": [
    {
     "name": "stdout",
     "output_type": "stream",
     "text": [
      "SPEAKER audio_2 1 6.713 0.456 <NA> <NA> SPEAKER_01 <NA> <NA>\n",
      "SPEAKER audio_2 1 7.574 0.743 <NA> <NA> SPEAKER_00 <NA> <NA>\n",
      "SPEAKER audio_2 1 8.317 6.446 <NA> <NA> SPEAKER_01 <NA> <NA>\n",
      "SPEAKER audio_2 1 9.852 1.198 <NA> <NA> SPEAKER_00 <NA> <NA>\n",
      "SPEAKER audio_2 1 14.273 4.269 <NA> <NA> SPEAKER_00 <NA> <NA>\n",
      "SPEAKER audio_2 1 17.986 3.544 <NA> <NA> SPEAKER_01 <NA> <NA>\n",
      "SPEAKER audio_2 1 21.766 6.834 <NA> <NA> SPEAKER_00 <NA> <NA>\n",
      "SPEAKER audio_2 1 27.790 2.177 <NA> <NA> SPEAKER_01 <NA> <NA>\n",
      "SPEAKER audio_2 1 29.900 0.067 <NA> <NA> SPEAKER_00 <NA> <NA>\n",
      "\n"
     ]
    }
   ],
   "source": [
    "# Enregistrer les résultats au format RTTM\n",
    "with open(f\"rttm/{sample}.rttm\", \"w\") as rttm:\n",
    "    diarization.write_rttm(rttm)\n",
    "\n",
    "# afficher le fichier RTTM\n",
    "print(open(f\"rttm/{sample}.rttm\").read())"
   ]
  },
  {
   "cell_type": "code",
   "execution_count": 30,
   "metadata": {},
   "outputs": [
    {
     "name": "stdout",
     "output_type": "stream",
     "text": [
      "6.713 7.169 SPEAKER_01\n",
      "7.574 8.317 SPEAKER_00\n",
      "8.317 14.763 SPEAKER_01\n",
      "9.852 11.050 SPEAKER_00\n",
      "14.273 18.543 SPEAKER_00\n",
      "17.986 21.530 SPEAKER_01\n",
      "21.766 28.600 SPEAKER_00\n",
      "27.790 29.967 SPEAKER_01\n",
      "29.900 29.967 SPEAKER_00\n",
      "\n"
     ]
    }
   ],
   "source": [
    "# Enregistrer les résultats au format lab\n",
    "with open(f\"lab/{sample}.lab\", \"w\") as lab_file:\n",
    "    diarization.write_lab(lab_file)\n",
    "\n",
    "# afficher le fichier lab\n",
    "print(open(f\"lab/{sample}.lab\").read())"
   ]
  },
  {
   "cell_type": "code",
   "execution_count": 24,
   "metadata": {},
   "outputs": [
    {
     "name": "stderr",
     "output_type": "stream",
     "text": [
      "d:\\K Docs\\DTNUM\\Speaker-Diarization\\traduction\\translate-rt - Copie\\venv\\Lib\\site-packages\\pyannote\\database\\util.py:178: FutureWarning: The 'delim_whitespace' keyword in pd.read_csv is deprecated and will be removed in a future version. Use ``sep='\\s+'`` instead\n",
      "  data = pd.read_csv(\n"
     ]
    },
    {
     "data": {
      "image/png": "[encoded data removed]",
      "text/plain": [
       "<pyannote.core.annotation.Annotation at 0x17645696fc0>"
      ]
     },
     "execution_count": 24,
     "metadata": {},
     "output_type": "execute_result"
    }
   ],
   "source": [
    "from pyannote.database.util import load_rttm\n",
    "\n",
    "reference = load_rttm(f\"rttm/{sample}.rttm\")[sample]\n",
    "\n",
    "\"\"\" note: si cela tronque à gauche, il faut : \"\"\"\n",
    "from pyannote.core import notebook, Segment\n",
    "\n",
    "# Définir l'échelle temporelle à afficher (de 0 à une durée maximale)\n",
    "notebook.crop = Segment(0, reference.get_timeline().extent().end + 1)\n",
    "\n",
    "reference\n"
   ]
  }
 ],
 "metadata": {
  "kernelspec": {
   "display_name": "venv",
   "language": "python",
   "name": "python3"
  },
  "language_info": {
   "codemirror_mode": {
    "name": "ipython",
    "version": 3
   },
   "file_extension": ".py",
   "mimetype": "text/x-python",
   "name": "python",
   "nbconvert_exporter": "python",
   "pygments_lexer": "ipython3",
   "version": "3.12.4"
  }
 },
 "nbformat": 4,
 "nbformat_minor": 2
}
