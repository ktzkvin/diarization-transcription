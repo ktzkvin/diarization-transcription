{
 "cells": [
  {
   "cell_type": "code",
   "execution_count": 51,
   "metadata": {},
   "outputs": [],
   "source": [
    "# Audio sample\n",
    "sample = \"audio_2\"\n"
   ]
  },
  {
   "cell_type": "code",
   "execution_count": 52,
   "metadata": {},
   "outputs": [
    {
     "name": "stderr",
     "output_type": "stream",
     "text": [
      "Lightning automatically upgraded your loaded checkpoint from v1.5.4 to v2.4.0. To apply the upgrade to your files permanently, run `python -m pytorch_lightning.utilities.upgrade_checkpoint C:\\Users\\ktzke\\.cache\\torch\\pyannote\\models--pyannote--segmentation\\snapshots\\c4c8ceafcbb3a7a280c2d357aee9fbc9b0be7f9b\\pytorch_model.bin`\n",
      "INFO:speechbrain.utils.fetching:Fetch hyperparams.yaml: Fetching from HuggingFace Hub 'speechbrain/spkrec-ecapa-voxceleb' if not cached\n",
      "d:\\K Docs\\DTNUM\\Speaker-Diarization\\traduction\\translate-rt - Copie\\venv\\Lib\\site-packages\\speechbrain\\utils\\fetching.py:151: UserWarning: Using SYMLINK strategy on Windows for fetching potentially requires elevated privileges and is not recommended. See `LocalStrategy` documentation.\n",
      "  warnings.warn(\n",
      "INFO:speechbrain.utils.fetching:Fetch custom.py: Fetching from HuggingFace Hub 'speechbrain/spkrec-ecapa-voxceleb' if not cached\n"
     ]
    },
    {
     "name": "stdout",
     "output_type": "stream",
     "text": [
      "Model was trained with pyannote.audio 0.0.1, yours is 3.3.2. Bad things might happen unless you revert pyannote.audio to 0.x.\n",
      "Model was trained with torch 1.10.0+cu102, yours is 2.5.1+cpu. Bad things might happen unless you revert torch to 1.x.\n"
     ]
    },
    {
     "name": "stderr",
     "output_type": "stream",
     "text": [
      "d:\\K Docs\\DTNUM\\Speaker-Diarization\\traduction\\translate-rt - Copie\\venv\\Lib\\site-packages\\speechbrain\\utils\\parameter_transfer.py:234: UserWarning: Requested Pretrainer collection using symlinks on Windows. This might not work; see `LocalStrategy` documentation. Consider unsetting `collect_in` in Pretrainer to avoid symlinking altogether.\n",
      "  warnings.warn(\n",
      "INFO:speechbrain.utils.fetching:Fetch embedding_model.ckpt: Fetching from HuggingFace Hub 'speechbrain/spkrec-ecapa-voxceleb' if not cached\n",
      "INFO:speechbrain.utils.fetching:Fetch mean_var_norm_emb.ckpt: Fetching from HuggingFace Hub 'speechbrain/spkrec-ecapa-voxceleb' if not cached\n",
      "INFO:speechbrain.utils.fetching:Fetch classifier.ckpt: Fetching from HuggingFace Hub 'speechbrain/spkrec-ecapa-voxceleb' if not cached\n",
      "INFO:speechbrain.utils.fetching:Fetch label_encoder.txt: Fetching from HuggingFace Hub 'speechbrain/spkrec-ecapa-voxceleb' if not cached\n",
      "INFO:speechbrain.utils.parameter_transfer:Loading pretrained files for: embedding_model, mean_var_norm_emb, classifier, label_encoder\n",
      "d:\\K Docs\\DTNUM\\Speaker-Diarization\\traduction\\translate-rt - Copie\\venv\\Lib\\site-packages\\speechbrain\\utils\\checkpoints.py:200: FutureWarning: You are using `torch.load` with `weights_only=False` (the current default value), which uses the default pickle module implicitly. It is possible to construct malicious pickle data which will execute arbitrary code during unpickling (See https://github.com/pytorch/pytorch/blob/main/SECURITY.md#untrusted-models for more details). In a future release, the default value for `weights_only` will be flipped to `True`. This limits the functions that could be executed during unpickling. Arbitrary objects will no longer be allowed to be loaded via this mode unless they are explicitly allowlisted by the user via `torch.serialization.add_safe_globals`. We recommend you start setting `weights_only=True` for any use case where you don't have full control of the loaded file. Please open an issue on GitHub for any issues related to this experimental feature.\n",
      "  state_dict = torch.load(path, map_location=device)\n",
      "d:\\K Docs\\DTNUM\\Speaker-Diarization\\traduction\\translate-rt - Copie\\venv\\Lib\\site-packages\\speechbrain\\processing\\features.py:1311: FutureWarning: You are using `torch.load` with `weights_only=False` (the current default value), which uses the default pickle module implicitly. It is possible to construct malicious pickle data which will execute arbitrary code during unpickling (See https://github.com/pytorch/pytorch/blob/main/SECURITY.md#untrusted-models for more details). In a future release, the default value for `weights_only` will be flipped to `True`. This limits the functions that could be executed during unpickling. Arbitrary objects will no longer be allowed to be loaded via this mode unless they are explicitly allowlisted by the user via `torch.serialization.add_safe_globals`. We recommend you start setting `weights_only=True` for any use case where you don't have full control of the loaded file. Please open an issue on GitHub for any issues related to this experimental feature.\n",
      "  stats = torch.load(path, map_location=device)\n",
      "Lightning automatically upgraded your loaded checkpoint from v1.5.4 to v2.4.0. To apply the upgrade to your files permanently, run `python -m pytorch_lightning.utilities.upgrade_checkpoint C:\\Users\\ktzke\\.cache\\torch\\pyannote\\models--pyannote--segmentation\\snapshots\\660b9e20307a2b0cdb400d0f80aadc04a701fc54\\pytorch_model.bin`\n"
     ]
    },
    {
     "name": "stdout",
     "output_type": "stream",
     "text": [
      "Model was trained with pyannote.audio 0.0.1, yours is 3.3.2. Bad things might happen unless you revert pyannote.audio to 0.x.\n",
      "Model was trained with torch 1.10.0+cu102, yours is 2.5.1+cpu. Bad things might happen unless you revert torch to 1.x.\n"
     ]
    }
   ],
   "source": [
    "from pyannote.audio import Pipeline, Model\n",
    "\n",
    "# Hugging Face token\n",
    "hf_token = input(\"Please enter your Hugging Face token: \")\n",
    "\n",
    "# Load pre-trained models\n",
    "diarization_pipeline = Pipeline.from_pretrained(\"pyannote/speaker-diarization@2.1\", use_auth_token=hf_token)  # speaker diarization\n",
    "model_pipeline = Model.from_pretrained(\"pyannote/segmentation\", use_auth_token=hf_token)  # speech activity detection\n"
   ]
  },
  {
   "cell_type": "code",
   "execution_count": 57,
   "metadata": {},
   "outputs": [
    {
     "data": {
      "image/png": "[encoded data removed]",
      "text/plain": [
       "<pyannote.core.annotation.Annotation at 0x1764ee2f2f0>"
      ]
     },
     "execution_count": 57,
     "metadata": {},
     "output_type": "execute_result"
    }
   ],
   "source": [
    "# Apply pipeline on sample\n",
    "diarization = diarization_pipeline(f\"audios/{sample}.wav\", num_speakers=2)\n",
    "\n",
    "diarization\n"
   ]
  },
  {
   "cell_type": "code",
   "execution_count": 58,
   "metadata": {},
   "outputs": [
    {
     "name": "stdout",
     "output_type": "stream",
     "text": [
      "SPEAKER audio_2 1 6.713 0.456 <NA> <NA> SPEAKER_01 <NA> <NA>\n",
      "SPEAKER audio_2 1 7.574 0.743 <NA> <NA> SPEAKER_00 <NA> <NA>\n",
      "SPEAKER audio_2 1 8.317 6.446 <NA> <NA> SPEAKER_01 <NA> <NA>\n",
      "SPEAKER audio_2 1 9.852 1.198 <NA> <NA> SPEAKER_00 <NA> <NA>\n",
      "SPEAKER audio_2 1 14.273 4.269 <NA> <NA> SPEAKER_00 <NA> <NA>\n",
      "SPEAKER audio_2 1 17.986 3.544 <NA> <NA> SPEAKER_01 <NA> <NA>\n",
      "SPEAKER audio_2 1 21.766 6.834 <NA> <NA> SPEAKER_00 <NA> <NA>\n",
      "SPEAKER audio_2 1 27.790 2.177 <NA> <NA> SPEAKER_01 <NA> <NA>\n",
      "SPEAKER audio_2 1 29.900 0.067 <NA> <NA> SPEAKER_00 <NA> <NA>\n",
      "\n"
     ]
    }
   ],
   "source": [
    "# Enregistrer les résultats au format RTTM\n",
    "with open(f\"rttm/{sample}.rttm\", \"w\") as rttm:\n",
    "    diarization.write_rttm(rttm)\n",
    "\n",
    "print(open(f\"rttm/{sample}.rttm\").read())"
   ]
  },
  {
   "cell_type": "code",
   "execution_count": 59,
   "metadata": {},
   "outputs": [
    {
     "name": "stdout",
     "output_type": "stream",
     "text": [
      "6.713 7.169 SPEAKER_01\n",
      "7.574 8.317 SPEAKER_00\n",
      "8.317 14.763 SPEAKER_01\n",
      "9.852 11.050 SPEAKER_00\n",
      "14.273 18.543 SPEAKER_00\n",
      "17.986 21.530 SPEAKER_01\n",
      "21.766 28.600 SPEAKER_00\n",
      "27.790 29.967 SPEAKER_01\n",
      "29.900 29.967 SPEAKER_00\n",
      "\n"
     ]
    }
   ],
   "source": [
    "# Enregistrer les résultats au format lab\n",
    "with open(f\"lab/{sample}.lab\", \"w\") as lab_file:\n",
    "    diarization.write_lab(lab_file)\n",
    "\n",
    "print(open(f\"lab/{sample}.lab\").read())"
   ]
  },
  {
   "cell_type": "code",
   "execution_count": 60,
   "metadata": {},
   "outputs": [
    {
     "name": "stderr",
     "output_type": "stream",
     "text": [
      "d:\\K Docs\\DTNUM\\Speaker-Diarization\\traduction\\translate-rt - Copie\\venv\\Lib\\site-packages\\pyannote\\database\\util.py:178: FutureWarning: The 'delim_whitespace' keyword in pd.read_csv is deprecated and will be removed in a future version. Use ``sep='\\s+'`` instead\n",
      "  data = pd.read_csv(\n"
     ]
    },
    {
     "data": {
      "image/png": "[encoded data removed]",
      "text/plain": [
       "<pyannote.core.annotation.Annotation at 0x1764eea0920>"
      ]
     },
     "execution_count": 60,
     "metadata": {},
     "output_type": "execute_result"
    }
   ],
   "source": [
    "from pyannote.database.util import load_rttm\n",
    "\n",
    "reference = load_rttm(f\"rttm/{sample}.rttm\")[sample]\n",
    "reference"
   ]
  },
  {
   "cell_type": "code",
   "execution_count": 56,
   "metadata": {},
   "outputs": [
    {
     "name": "stderr",
     "output_type": "stream",
     "text": [
      "d:\\K Docs\\DTNUM\\Speaker-Diarization\\traduction\\translate-rt - Copie\\venv\\Lib\\site-packages\\pyannote\\database\\util.py:178: FutureWarning: The 'delim_whitespace' keyword in pd.read_csv is deprecated and will be removed in a future version. Use ``sep='\\s+'`` instead\n",
      "  data = pd.read_csv(\n"
     ]
    },
    {
     "data": {
      "image/png": "[encoded data removed]",
      "text/plain": [
       "<pyannote.core.annotation.Annotation at 0x1764ee9aed0>"
      ]
     },
     "execution_count": 56,
     "metadata": {},
     "output_type": "execute_result"
    }
   ],
   "source": [
    "from pyannote.database.util import load_rttm\n",
    "\n",
    "reference = load_rttm(f\"rttm/{sample}.rttm\")[sample]\n",
    "\n",
    "\"\"\" note: si cela tronque à gauche, il faut : \"\"\"\n",
    "from pyannote.core import notebook, Segment\n",
    "\n",
    "# Définir l'échelle temporelle à afficher (de 0 à une durée maximale)\n",
    "notebook.crop = Segment(0, reference.get_timeline().extent().end + 1)\n",
    "\n",
    "reference\n"
   ]
  }
 ],
 "metadata": {
  "kernelspec": {
   "display_name": "venv",
   "language": "python",
   "name": "python3"
  },
  "language_info": {
   "codemirror_mode": {
    "name": "ipython",
    "version": 3
   },
   "file_extension": ".py",
   "mimetype": "text/x-python",
   "name": "python",
   "nbconvert_exporter": "python",
   "pygments_lexer": "ipython3",
   "version": "3.12.4"
  }
 },
 "nbformat": 4,
 "nbformat_minor": 2
}
